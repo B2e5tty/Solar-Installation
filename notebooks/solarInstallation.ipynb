{
 "cells": [
  {
   "cell_type": "code",
   "execution_count": 117,
   "id": "6324e2b6",
   "metadata": {},
   "outputs": [],
   "source": [
    "import pandas as pd\n",
    "import numpy as np\n",
    "import seaborn as sns\n",
    "import matplotlib.pyplot as plt\n",
    "from scipy.stats import skew"
   ]
  },
  {
   "cell_type": "markdown",
   "id": "8f77c8ff",
   "metadata": {},
   "source": [
    "## Accessing the datasets"
   ]
  },
  {
   "cell_type": "code",
   "execution_count": 2,
   "id": "0d4910c4",
   "metadata": {},
   "outputs": [],
   "source": [
    "benin = pd.read_csv(\"benin-malanville.csv\")\n",
    "sierra = pd.read_csv(\"sierraleone-bumbuna.csv\")\n",
    "togo = pd.read_csv(\"togo-dapaong_qc.csv\")"
   ]
  },
  {
   "cell_type": "code",
   "execution_count": 4,
   "id": "89b82efe",
   "metadata": {
    "collapsed": true
   },
   "outputs": [
    {
     "name": "stdout",
     "output_type": "stream",
     "text": [
      "<class 'pandas.core.frame.DataFrame'>\n",
      "RangeIndex: 525600 entries, 0 to 525599\n",
      "Data columns (total 19 columns):\n",
      " #   Column         Non-Null Count   Dtype  \n",
      "---  ------         --------------   -----  \n",
      " 0   Timestamp      525600 non-null  object \n",
      " 1   GHI            525600 non-null  float64\n",
      " 2   DNI            525600 non-null  float64\n",
      " 3   DHI            525600 non-null  float64\n",
      " 4   ModA           525600 non-null  float64\n",
      " 5   ModB           525600 non-null  float64\n",
      " 6   Tamb           525600 non-null  float64\n",
      " 7   RH             525600 non-null  float64\n",
      " 8   WS             525600 non-null  float64\n",
      " 9   WSgust         525600 non-null  float64\n",
      " 10  WSstdev        525600 non-null  float64\n",
      " 11  WD             525600 non-null  float64\n",
      " 12  WDstdev        525600 non-null  float64\n",
      " 13  BP             525600 non-null  int64  \n",
      " 14  Cleaning       525600 non-null  int64  \n",
      " 15  Precipitation  525600 non-null  float64\n",
      " 16  TModA          525600 non-null  float64\n",
      " 17  TModB          525600 non-null  float64\n",
      " 18  Comments       0 non-null       float64\n",
      "dtypes: float64(16), int64(2), object(1)\n",
      "memory usage: 76.2+ MB\n"
     ]
    }
   ],
   "source": [
    "benin.info()"
   ]
  },
  {
   "cell_type": "code",
   "execution_count": 5,
   "id": "4447224d",
   "metadata": {
    "collapsed": true
   },
   "outputs": [
    {
     "name": "stdout",
     "output_type": "stream",
     "text": [
      "<class 'pandas.core.frame.DataFrame'>\n",
      "RangeIndex: 525600 entries, 0 to 525599\n",
      "Data columns (total 19 columns):\n",
      " #   Column         Non-Null Count   Dtype  \n",
      "---  ------         --------------   -----  \n",
      " 0   Timestamp      525600 non-null  object \n",
      " 1   GHI            525600 non-null  float64\n",
      " 2   DNI            525600 non-null  float64\n",
      " 3   DHI            525600 non-null  float64\n",
      " 4   ModA           525600 non-null  float64\n",
      " 5   ModB           525600 non-null  float64\n",
      " 6   Tamb           525600 non-null  float64\n",
      " 7   RH             525600 non-null  float64\n",
      " 8   WS             525600 non-null  float64\n",
      " 9   WSgust         525600 non-null  float64\n",
      " 10  WSstdev        525600 non-null  float64\n",
      " 11  WD             525600 non-null  float64\n",
      " 12  WDstdev        525600 non-null  float64\n",
      " 13  BP             525600 non-null  int64  \n",
      " 14  Cleaning       525600 non-null  int64  \n",
      " 15  Precipitation  525600 non-null  float64\n",
      " 16  TModA          525600 non-null  float64\n",
      " 17  TModB          525600 non-null  float64\n",
      " 18  Comments       0 non-null       float64\n",
      "dtypes: float64(16), int64(2), object(1)\n",
      "memory usage: 76.2+ MB\n"
     ]
    }
   ],
   "source": [
    "sierra.info()"
   ]
  },
  {
   "cell_type": "code",
   "execution_count": 6,
   "id": "f7159e76",
   "metadata": {
    "collapsed": true
   },
   "outputs": [
    {
     "name": "stdout",
     "output_type": "stream",
     "text": [
      "<class 'pandas.core.frame.DataFrame'>\n",
      "RangeIndex: 525600 entries, 0 to 525599\n",
      "Data columns (total 19 columns):\n",
      " #   Column         Non-Null Count   Dtype  \n",
      "---  ------         --------------   -----  \n",
      " 0   Timestamp      525600 non-null  object \n",
      " 1   GHI            525600 non-null  float64\n",
      " 2   DNI            525600 non-null  float64\n",
      " 3   DHI            525600 non-null  float64\n",
      " 4   ModA           525600 non-null  float64\n",
      " 5   ModB           525600 non-null  float64\n",
      " 6   Tamb           525600 non-null  float64\n",
      " 7   RH             525600 non-null  float64\n",
      " 8   WS             525600 non-null  float64\n",
      " 9   WSgust         525600 non-null  float64\n",
      " 10  WSstdev        525600 non-null  float64\n",
      " 11  WD             525600 non-null  float64\n",
      " 12  WDstdev        525600 non-null  float64\n",
      " 13  BP             525600 non-null  int64  \n",
      " 14  Cleaning       525600 non-null  int64  \n",
      " 15  Precipitation  525600 non-null  float64\n",
      " 16  TModA          525600 non-null  float64\n",
      " 17  TModB          525600 non-null  float64\n",
      " 18  Comments       0 non-null       float64\n",
      "dtypes: float64(16), int64(2), object(1)\n",
      "memory usage: 76.2+ MB\n"
     ]
    }
   ],
   "source": [
    "togo.info()"
   ]
  },
  {
   "cell_type": "code",
   "execution_count": 29,
   "id": "56a78f52",
   "metadata": {
    "collapsed": true
   },
   "outputs": [
    {
     "data": {
      "text/html": [
       "<div>\n",
       "<style scoped>\n",
       "    .dataframe tbody tr th:only-of-type {\n",
       "        vertical-align: middle;\n",
       "    }\n",
       "\n",
       "    .dataframe tbody tr th {\n",
       "        vertical-align: top;\n",
       "    }\n",
       "\n",
       "    .dataframe thead th {\n",
       "        text-align: right;\n",
       "    }\n",
       "</style>\n",
       "<table border=\"1\" class=\"dataframe\">\n",
       "  <thead>\n",
       "    <tr style=\"text-align: right;\">\n",
       "      <th></th>\n",
       "      <th>GHI</th>\n",
       "      <th>DNI</th>\n",
       "      <th>DHI</th>\n",
       "      <th>ModA</th>\n",
       "      <th>ModB</th>\n",
       "      <th>Tamb</th>\n",
       "      <th>RH</th>\n",
       "      <th>WS</th>\n",
       "      <th>WSgust</th>\n",
       "      <th>WSstdev</th>\n",
       "      <th>WD</th>\n",
       "      <th>WDstdev</th>\n",
       "      <th>BP</th>\n",
       "      <th>Cleaning</th>\n",
       "      <th>Precipitation</th>\n",
       "      <th>TModA</th>\n",
       "      <th>TModB</th>\n",
       "      <th>Comments</th>\n",
       "    </tr>\n",
       "  </thead>\n",
       "  <tbody>\n",
       "    <tr>\n",
       "      <th>count</th>\n",
       "      <td>525600.000000</td>\n",
       "      <td>525600.000000</td>\n",
       "      <td>525600.000000</td>\n",
       "      <td>525600.000000</td>\n",
       "      <td>525600.000000</td>\n",
       "      <td>525600.000000</td>\n",
       "      <td>525600.000000</td>\n",
       "      <td>525600.000000</td>\n",
       "      <td>525600.000000</td>\n",
       "      <td>525600.000000</td>\n",
       "      <td>525600.000000</td>\n",
       "      <td>525600.000000</td>\n",
       "      <td>525600.000000</td>\n",
       "      <td>525600.000000</td>\n",
       "      <td>525600.000000</td>\n",
       "      <td>525600.000000</td>\n",
       "      <td>525600.000000</td>\n",
       "      <td>0.0</td>\n",
       "    </tr>\n",
       "    <tr>\n",
       "      <th>mean</th>\n",
       "      <td>240.559452</td>\n",
       "      <td>167.187516</td>\n",
       "      <td>115.358961</td>\n",
       "      <td>236.589496</td>\n",
       "      <td>228.883576</td>\n",
       "      <td>28.179683</td>\n",
       "      <td>54.487969</td>\n",
       "      <td>2.121113</td>\n",
       "      <td>2.809195</td>\n",
       "      <td>0.473390</td>\n",
       "      <td>153.435172</td>\n",
       "      <td>8.582407</td>\n",
       "      <td>994.197199</td>\n",
       "      <td>0.000923</td>\n",
       "      <td>0.001905</td>\n",
       "      <td>35.246026</td>\n",
       "      <td>32.471736</td>\n",
       "      <td>NaN</td>\n",
       "    </tr>\n",
       "    <tr>\n",
       "      <th>std</th>\n",
       "      <td>331.131327</td>\n",
       "      <td>261.710501</td>\n",
       "      <td>158.691074</td>\n",
       "      <td>326.894859</td>\n",
       "      <td>316.536515</td>\n",
       "      <td>5.924297</td>\n",
       "      <td>28.073069</td>\n",
       "      <td>1.603466</td>\n",
       "      <td>2.029120</td>\n",
       "      <td>0.273395</td>\n",
       "      <td>102.332842</td>\n",
       "      <td>6.385864</td>\n",
       "      <td>2.474993</td>\n",
       "      <td>0.030363</td>\n",
       "      <td>0.037115</td>\n",
       "      <td>14.807258</td>\n",
       "      <td>12.348743</td>\n",
       "      <td>NaN</td>\n",
       "    </tr>\n",
       "    <tr>\n",
       "      <th>min</th>\n",
       "      <td>-12.900000</td>\n",
       "      <td>-7.800000</td>\n",
       "      <td>-12.600000</td>\n",
       "      <td>0.000000</td>\n",
       "      <td>0.000000</td>\n",
       "      <td>11.000000</td>\n",
       "      <td>2.100000</td>\n",
       "      <td>0.000000</td>\n",
       "      <td>0.000000</td>\n",
       "      <td>0.000000</td>\n",
       "      <td>0.000000</td>\n",
       "      <td>0.000000</td>\n",
       "      <td>985.000000</td>\n",
       "      <td>0.000000</td>\n",
       "      <td>0.000000</td>\n",
       "      <td>9.000000</td>\n",
       "      <td>8.100000</td>\n",
       "      <td>NaN</td>\n",
       "    </tr>\n",
       "    <tr>\n",
       "      <th>25%</th>\n",
       "      <td>-2.000000</td>\n",
       "      <td>-0.500000</td>\n",
       "      <td>-2.100000</td>\n",
       "      <td>0.000000</td>\n",
       "      <td>0.000000</td>\n",
       "      <td>24.200000</td>\n",
       "      <td>28.800000</td>\n",
       "      <td>1.000000</td>\n",
       "      <td>1.300000</td>\n",
       "      <td>0.400000</td>\n",
       "      <td>59.000000</td>\n",
       "      <td>3.700000</td>\n",
       "      <td>993.000000</td>\n",
       "      <td>0.000000</td>\n",
       "      <td>0.000000</td>\n",
       "      <td>24.200000</td>\n",
       "      <td>23.600000</td>\n",
       "      <td>NaN</td>\n",
       "    </tr>\n",
       "    <tr>\n",
       "      <th>50%</th>\n",
       "      <td>1.800000</td>\n",
       "      <td>-0.100000</td>\n",
       "      <td>1.600000</td>\n",
       "      <td>4.500000</td>\n",
       "      <td>4.300000</td>\n",
       "      <td>28.000000</td>\n",
       "      <td>55.100000</td>\n",
       "      <td>1.900000</td>\n",
       "      <td>2.600000</td>\n",
       "      <td>0.500000</td>\n",
       "      <td>181.000000</td>\n",
       "      <td>8.600000</td>\n",
       "      <td>994.000000</td>\n",
       "      <td>0.000000</td>\n",
       "      <td>0.000000</td>\n",
       "      <td>30.000000</td>\n",
       "      <td>28.900000</td>\n",
       "      <td>NaN</td>\n",
       "    </tr>\n",
       "    <tr>\n",
       "      <th>75%</th>\n",
       "      <td>483.400000</td>\n",
       "      <td>314.200000</td>\n",
       "      <td>216.300000</td>\n",
       "      <td>463.700000</td>\n",
       "      <td>447.900000</td>\n",
       "      <td>32.300000</td>\n",
       "      <td>80.100000</td>\n",
       "      <td>3.100000</td>\n",
       "      <td>4.100000</td>\n",
       "      <td>0.600000</td>\n",
       "      <td>235.100000</td>\n",
       "      <td>12.300000</td>\n",
       "      <td>996.000000</td>\n",
       "      <td>0.000000</td>\n",
       "      <td>0.000000</td>\n",
       "      <td>46.900000</td>\n",
       "      <td>41.500000</td>\n",
       "      <td>NaN</td>\n",
       "    </tr>\n",
       "    <tr>\n",
       "      <th>max</th>\n",
       "      <td>1413.000000</td>\n",
       "      <td>952.300000</td>\n",
       "      <td>759.200000</td>\n",
       "      <td>1342.300000</td>\n",
       "      <td>1342.300000</td>\n",
       "      <td>43.800000</td>\n",
       "      <td>100.000000</td>\n",
       "      <td>19.500000</td>\n",
       "      <td>26.600000</td>\n",
       "      <td>4.200000</td>\n",
       "      <td>360.000000</td>\n",
       "      <td>99.400000</td>\n",
       "      <td>1003.000000</td>\n",
       "      <td>1.000000</td>\n",
       "      <td>2.500000</td>\n",
       "      <td>81.000000</td>\n",
       "      <td>72.500000</td>\n",
       "      <td>NaN</td>\n",
       "    </tr>\n",
       "  </tbody>\n",
       "</table>\n",
       "</div>"
      ],
      "text/plain": [
       "                 GHI            DNI            DHI           ModA  \\\n",
       "count  525600.000000  525600.000000  525600.000000  525600.000000   \n",
       "mean      240.559452     167.187516     115.358961     236.589496   \n",
       "std       331.131327     261.710501     158.691074     326.894859   \n",
       "min       -12.900000      -7.800000     -12.600000       0.000000   \n",
       "25%        -2.000000      -0.500000      -2.100000       0.000000   \n",
       "50%         1.800000      -0.100000       1.600000       4.500000   \n",
       "75%       483.400000     314.200000     216.300000     463.700000   \n",
       "max      1413.000000     952.300000     759.200000    1342.300000   \n",
       "\n",
       "                ModB           Tamb             RH             WS  \\\n",
       "count  525600.000000  525600.000000  525600.000000  525600.000000   \n",
       "mean      228.883576      28.179683      54.487969       2.121113   \n",
       "std       316.536515       5.924297      28.073069       1.603466   \n",
       "min         0.000000      11.000000       2.100000       0.000000   \n",
       "25%         0.000000      24.200000      28.800000       1.000000   \n",
       "50%         4.300000      28.000000      55.100000       1.900000   \n",
       "75%       447.900000      32.300000      80.100000       3.100000   \n",
       "max      1342.300000      43.800000     100.000000      19.500000   \n",
       "\n",
       "              WSgust        WSstdev             WD        WDstdev  \\\n",
       "count  525600.000000  525600.000000  525600.000000  525600.000000   \n",
       "mean        2.809195       0.473390     153.435172       8.582407   \n",
       "std         2.029120       0.273395     102.332842       6.385864   \n",
       "min         0.000000       0.000000       0.000000       0.000000   \n",
       "25%         1.300000       0.400000      59.000000       3.700000   \n",
       "50%         2.600000       0.500000     181.000000       8.600000   \n",
       "75%         4.100000       0.600000     235.100000      12.300000   \n",
       "max        26.600000       4.200000     360.000000      99.400000   \n",
       "\n",
       "                  BP       Cleaning  Precipitation          TModA  \\\n",
       "count  525600.000000  525600.000000  525600.000000  525600.000000   \n",
       "mean      994.197199       0.000923       0.001905      35.246026   \n",
       "std         2.474993       0.030363       0.037115      14.807258   \n",
       "min       985.000000       0.000000       0.000000       9.000000   \n",
       "25%       993.000000       0.000000       0.000000      24.200000   \n",
       "50%       994.000000       0.000000       0.000000      30.000000   \n",
       "75%       996.000000       0.000000       0.000000      46.900000   \n",
       "max      1003.000000       1.000000       2.500000      81.000000   \n",
       "\n",
       "               TModB  Comments  \n",
       "count  525600.000000       0.0  \n",
       "mean       32.471736       NaN  \n",
       "std        12.348743       NaN  \n",
       "min         8.100000       NaN  \n",
       "25%        23.600000       NaN  \n",
       "50%        28.900000       NaN  \n",
       "75%        41.500000       NaN  \n",
       "max        72.500000       NaN  "
      ]
     },
     "execution_count": 29,
     "metadata": {},
     "output_type": "execute_result"
    }
   ],
   "source": [
    "benin.describe()"
   ]
  },
  {
   "cell_type": "markdown",
   "id": "f4bb440a",
   "metadata": {},
   "source": [
    "## Summary Statistics"
   ]
  },
  {
   "cell_type": "code",
   "execution_count": 58,
   "id": "a67cdf93",
   "metadata": {},
   "outputs": [],
   "source": [
    "def summary_statistice(df):\n",
    "    df_column = df.iloc[:,1:19].columns.tolist()\n",
    "    df_min = df.iloc[:,1:19].min().tolist()\n",
    "    df_list = list(zip(df_column,df_min))\n",
    "    print(f\"Minimum:\\n {df_list}\")\n",
    "    \n",
    "    print('\\n')\n",
    "    \n",
    "    df_column = df.iloc[:,1:19].columns.tolist()\n",
    "    df_max = df.iloc[:,1:19].max().tolist()\n",
    "    df_list = list(zip(df_column,df_max))\n",
    "    print(f\"Maximum:\\n {df_list}\")\n",
    "    \n",
    "    print('\\n')\n",
    "    \n",
    "    df_column = df.iloc[:,1:19].columns.tolist()\n",
    "    df_mean = df.iloc[:,1:19].mean().round(2).tolist()\n",
    "    df_list = list(zip(df_column,df_mean))\n",
    "    print(f\"Mean:\\n {df_list}\")\n",
    "    \n",
    "    print('\\n')\n",
    "    \n",
    "    df_column = df.iloc[:,1:19].columns.tolist()\n",
    "    df_median = df.iloc[:,1:19].median().tolist()\n",
    "    df_list = list(zip(df_column,df_median))\n",
    "    print(f\"Median:\\n {df_list}\")\n",
    "    \n",
    "    print('\\n')\n",
    "    \n",
    "    df_column = df.iloc[:,1:19].columns.tolist()\n",
    "    df_std = df.iloc[:,1:19].std().round(2).tolist()\n",
    "    df_list = list(zip(df_column,df_std))\n",
    "    print(f\"Standard deviation:\\n {df_list}\")\n",
    "    \n",
    "    print('\\n')\n",
    "    \n",
    "    df_column = df.iloc[:,1:19].columns.tolist()\n",
    "    df_25th = df.iloc[:,1:19].quantile(0.25).tolist()\n",
    "    df_list = list(zip(df_column,df_25th))\n",
    "    print(f\"25th Percentile:\\n {df_list}\")\n",
    "    \n",
    "    print('\\n')\n",
    "    \n",
    "    df_column = df.iloc[:,1:19].columns.tolist()\n",
    "    df_50th = df.iloc[:,1:19].quantile(0.5).tolist()\n",
    "    df_list = list(zip(df_column,df_50th))\n",
    "    print(f\"50th Percentile:\\n {df_list}\")\n",
    "    \n",
    "    print('\\n')\n",
    "    \n",
    "    df_column = df.iloc[:,1:19].columns.tolist()\n",
    "    df_75th = df.iloc[:,1:19].quantile(0.75).tolist()\n",
    "    df_list = list(zip(df_column,df_75th))\n",
    "    print(f\"75th Percentile:\\n {df_list}\")"
   ]
  },
  {
   "cell_type": "code",
   "execution_count": 57,
   "id": "640dba56",
   "metadata": {},
   "outputs": [
    {
     "name": "stdout",
     "output_type": "stream",
     "text": [
      "Minimum:\n",
      " [('GHI', -12.9), ('DNI', -7.8), ('DHI', -12.6), ('ModA', 0.0), ('ModB', 0.0), ('Tamb', 11.0), ('RH', 2.1), ('WS', 0.0), ('WSgust', 0.0), ('WSstdev', 0.0), ('WD', 0.0), ('WDstdev', 0.0), ('BP', 985.0), ('Cleaning', 0.0), ('Precipitation', 0.0), ('TModA', 9.0), ('TModB', 8.1), ('Comments', nan)]\n",
      "\n",
      "\n",
      "Maximum:\n",
      " [('GHI', 1413.0), ('DNI', 952.3), ('DHI', 759.2), ('ModA', 1342.3), ('ModB', 1342.3), ('Tamb', 43.8), ('RH', 100.0), ('WS', 19.5), ('WSgust', 26.6), ('WSstdev', 4.2), ('WD', 360.0), ('WDstdev', 99.4), ('BP', 1003.0), ('Cleaning', 1.0), ('Precipitation', 2.5), ('TModA', 81.0), ('TModB', 72.5), ('Comments', nan)]\n",
      "\n",
      "\n",
      "Mean:\n",
      " [('GHI', 240.56), ('DNI', 167.19), ('DHI', 115.36), ('ModA', 236.59), ('ModB', 228.88), ('Tamb', 28.18), ('RH', 54.49), ('WS', 2.12), ('WSgust', 2.81), ('WSstdev', 0.47), ('WD', 153.44), ('WDstdev', 8.58), ('BP', 994.2), ('Cleaning', 0.0), ('Precipitation', 0.0), ('TModA', 35.25), ('TModB', 32.47), ('Comments', nan)]\n",
      "\n",
      "\n",
      "Median:\n",
      " [('GHI', 1.8), ('DNI', -0.1), ('DHI', 1.6), ('ModA', 4.5), ('ModB', 4.3), ('Tamb', 28.0), ('RH', 55.1), ('WS', 1.9), ('WSgust', 2.6), ('WSstdev', 0.5), ('WD', 181.0), ('WDstdev', 8.6), ('BP', 994.0), ('Cleaning', 0.0), ('Precipitation', 0.0), ('TModA', 30.0), ('TModB', 28.9), ('Comments', nan)]\n",
      "\n",
      "\n",
      "Standard deviation:\n",
      " [('GHI', 331.13), ('DNI', 261.71), ('DHI', 158.69), ('ModA', 326.89), ('ModB', 316.54), ('Tamb', 5.92), ('RH', 28.07), ('WS', 1.6), ('WSgust', 2.03), ('WSstdev', 0.27), ('WD', 102.33), ('WDstdev', 6.39), ('BP', 2.47), ('Cleaning', 0.03), ('Precipitation', 0.04), ('TModA', 14.81), ('TModB', 12.35), ('Comments', nan)]\n",
      "\n",
      "\n",
      "25th Percentile:\n",
      " [('GHI', -2.0), ('DNI', -0.5), ('DHI', -2.1), ('ModA', 0.0), ('ModB', 0.0), ('Tamb', 24.2), ('RH', 28.8), ('WS', 1.0), ('WSgust', 1.3), ('WSstdev', 0.4), ('WD', 59.0), ('WDstdev', 3.7), ('BP', 993.0), ('Cleaning', 0.0), ('Precipitation', 0.0), ('TModA', 24.2), ('TModB', 23.6), ('Comments', nan)]\n",
      "\n",
      "\n",
      "50th Percentile:\n",
      " [('GHI', 1.8), ('DNI', -0.1), ('DHI', 1.6), ('ModA', 4.5), ('ModB', 4.3), ('Tamb', 28.0), ('RH', 55.1), ('WS', 1.9), ('WSgust', 2.6), ('WSstdev', 0.5), ('WD', 181.0), ('WDstdev', 8.6), ('BP', 994.0), ('Cleaning', 0.0), ('Precipitation', 0.0), ('TModA', 30.0), ('TModB', 28.9), ('Comments', nan)]\n",
      "\n",
      "\n",
      "75th Percentile:\n",
      " [('GHI', 483.4), ('DNI', 314.2), ('DHI', 216.3), ('ModA', 463.7), ('ModB', 447.9), ('Tamb', 32.3), ('RH', 80.1), ('WS', 3.1), ('WSgust', 4.1), ('WSstdev', 0.6), ('WD', 235.1), ('WDstdev', 12.3), ('BP', 996.0), ('Cleaning', 0.0), ('Precipitation', 0.0), ('TModA', 46.9), ('TModB', 41.5), ('Comments', nan)]\n",
      "\n",
      "\n"
     ]
    }
   ],
   "source": [
    "summary_statistice(benin)\n",
    "# summary_statistice(sierra)\n",
    "# summary_statistice(togo)"
   ]
  },
  {
   "cell_type": "markdown",
   "id": "7ad1146e",
   "metadata": {},
   "source": [
    "## Data Quality Check"
   ]
  },
  {
   "cell_type": "code",
   "execution_count": 101,
   "id": "a3966c37",
   "metadata": {},
   "outputs": [],
   "source": [
    "def check_negative_values(df):\n",
    "    len_negative_ghi = len(df[df['GHI'] < 0])\n",
    "    len_negative_dni = len(df[df['DNI'] < 0])\n",
    "    len_negative_dhi = len(df[df['DHI'] < 0])\n",
    "    \n",
    "    if (len_negative_ghi != 0) & (len_negative_dni != 0) & (len_negative_dhi != 0):\n",
    "        print(\"All the three columns have negative values\")\n",
    "        \n",
    "    elif (len_negative_ghi != 0) & (len_negative_dni == 0) & (len_negative_dhi == 0):\n",
    "        print(\"Column GHI have negative values\")\n",
    "        \n",
    "    elif (len_negative_ghi == 0) & (len_negative_dni != 0) & (len_negative_dhi == 0):\n",
    "        print(\"Column DNI have negative values\")\n",
    "        \n",
    "    elif (len_negative_ghi == 0) & (len_negative_dni == 0) & (len_negative_dhi != 0):\n",
    "        print(\"Column DHI have negative values\")\n",
    "        \n",
    "    else:\n",
    "        print(\"All the three columns don't have negative values\")"
   ]
  },
  {
   "cell_type": "code",
   "execution_count": 76,
   "id": "4c331f41",
   "metadata": {},
   "outputs": [],
   "source": [
    "# using boxplot to check for outliers\n",
    "def check_outliers(df):\n",
    "    sns.boxplot(data=df[['GHI','DNI','DHI','ModA','ModB','WS','WSgust']])\n",
    "    plt.show()"
   ]
  },
  {
   "cell_type": "code",
   "execution_count": 77,
   "id": "909b86ff",
   "metadata": {},
   "outputs": [
    {
     "data": {
      "image/png": "[encoded data removed]",
      "text/plain": [
       "<Figure size 640x480 with 1 Axes>"
      ]
     },
     "metadata": {},
     "output_type": "display_data"
    }
   ],
   "source": [
    "check_outliers(benin)\n",
    "# check_outliers(sierra)\n",
    "# check_outliers(togo)"
   ]
  },
  {
   "cell_type": "code",
   "execution_count": 106,
   "id": "4bd852b8",
   "metadata": {},
   "outputs": [
    {
     "name": "stdout",
     "output_type": "stream",
     "text": [
      "All the three columns have negative values\n"
     ]
    }
   ],
   "source": [
    "check_negative_values(benin)\n",
    "# check_negative_values(sierra)\n",
    "# check_negative_values(togo)"
   ]
  },
  {
   "cell_type": "markdown",
   "id": "54cdf7ff",
   "metadata": {},
   "source": [
    "### Cleaning the data"
   ]
  },
  {
   "cell_type": "markdown",
   "id": "8b19184c",
   "metadata": {},
   "source": [
    "#### Handling negative values"
   ]
  },
  {
   "cell_type": "code",
   "execution_count": 108,
   "id": "3406c58e",
   "metadata": {},
   "outputs": [],
   "source": [
    "# changing negative values to zero\n",
    "def negative_to_zero(df):\n",
    "    df['GHI'] = df['GHI'].apply(lambda x: max(x,0))\n",
    "    df['DNI'] = df['GHI'].apply(lambda x: max(x,0))\n",
    "    df['DHI'] = df['GHI'].apply(lambda x: max(x,0))"
   ]
  },
  {
   "cell_type": "code",
   "execution_count": 115,
   "id": "bbfeead6",
   "metadata": {},
   "outputs": [],
   "source": [
    "# negative_to_zero(benin)\n",
    "# negative_to_zero(sierra)\n",
    "negative_to_zero(togo)"
   ]
  },
  {
   "cell_type": "code",
   "execution_count": 116,
   "id": "e331ef42",
   "metadata": {},
   "outputs": [
    {
     "name": "stdout",
     "output_type": "stream",
     "text": [
      "All the three columns don't have negative values\n"
     ]
    }
   ],
   "source": [
    "# check if the negative value exist still\n",
    "# check_negative_values(benin)\n",
    "# check_negative_values(sierra)\n",
    "check_negative_values(togo)"
   ]
  },
  {
   "cell_type": "markdown",
   "id": "4f0e2524",
   "metadata": {},
   "source": [
    "#### Handling outliers"
   ]
  },
  {
   "cell_type": "code",
   "execution_count": 135,
   "id": "c3484b1a",
   "metadata": {},
   "outputs": [],
   "source": [
    "# further check outliers\n",
    "def histo_gram(df,col):\n",
    "    plt.figure(figsize=(5,3))\n",
    "    sns.histplot(df[col], bins=30, kde=True)\n",
    "    plt.title(col)\n",
    "    plt.xlabel('Value')\n",
    "    plt.ylabel('Frequency')\n",
    "    plt.show()\n",
    "\n",
    "    data_skewness = skew(df)\n",
    "    print(f\"Skewness: {data_skewness}\")"
   ]
  },
  {
   "cell_type": "code",
   "execution_count": 136,
   "id": "83a99cd5",
   "metadata": {},
   "outputs": [
    {
     "data": {
      "image/png": "[encoded data removed]",
      "text/plain": [
       "<Figure size 500x300 with 1 Axes>"
      ]
     },
     "metadata": {},
     "output_type": "display_data"
    },
    {
     "ename": "TypeError",
     "evalue": "ufunc 'isnan' not supported for the input types, and the inputs could not be safely coerced to any supported types according to the casting rule ''safe''",
     "output_type": "error",
     "traceback": [
      "\u001b[1;31m---------------------------------------------------------------------------\u001b[0m",
      "\u001b[1;31mTypeError\u001b[0m                                 Traceback (most recent call last)",
      "Cell \u001b[1;32mIn[136], line 3\u001b[0m\n\u001b[0;32m      1\u001b[0m outlier_col \u001b[38;5;241m=\u001b[39m [\u001b[38;5;124m'\u001b[39m\u001b[38;5;124mGHI\u001b[39m\u001b[38;5;124m'\u001b[39m,\u001b[38;5;124m'\u001b[39m\u001b[38;5;124mDNI\u001b[39m\u001b[38;5;124m'\u001b[39m,\u001b[38;5;124m'\u001b[39m\u001b[38;5;124mDHI\u001b[39m\u001b[38;5;124m'\u001b[39m,\u001b[38;5;124m'\u001b[39m\u001b[38;5;124mModA\u001b[39m\u001b[38;5;124m'\u001b[39m,\u001b[38;5;124m'\u001b[39m\u001b[38;5;124mModB\u001b[39m\u001b[38;5;124m'\u001b[39m,\u001b[38;5;124m'\u001b[39m\u001b[38;5;124mWS\u001b[39m\u001b[38;5;124m'\u001b[39m,\u001b[38;5;124m'\u001b[39m\u001b[38;5;124mWSgust\u001b[39m\u001b[38;5;124m'\u001b[39m]\n\u001b[0;32m      2\u001b[0m \u001b[38;5;28;01mfor\u001b[39;00m col \u001b[38;5;129;01min\u001b[39;00m outlier_col:\n\u001b[1;32m----> 3\u001b[0m     histo_gram(benin,col)\n",
      "Cell \u001b[1;32mIn[135], line 10\u001b[0m, in \u001b[0;36mhisto_gram\u001b[1;34m(df, col)\u001b[0m\n\u001b[0;32m      7\u001b[0m plt\u001b[38;5;241m.\u001b[39mylabel(\u001b[38;5;124m'\u001b[39m\u001b[38;5;124mFrequency\u001b[39m\u001b[38;5;124m'\u001b[39m)\n\u001b[0;32m      8\u001b[0m plt\u001b[38;5;241m.\u001b[39mshow()\n\u001b[1;32m---> 10\u001b[0m data_skewness \u001b[38;5;241m=\u001b[39m skew(df)\n\u001b[0;32m     11\u001b[0m \u001b[38;5;28mprint\u001b[39m(\u001b[38;5;124mf\u001b[39m\u001b[38;5;124m\"\u001b[39m\u001b[38;5;124mSkewness: \u001b[39m\u001b[38;5;132;01m{\u001b[39;00mdata_skewness\u001b[38;5;132;01m}\u001b[39;00m\u001b[38;5;124m\"\u001b[39m)\n",
      "File \u001b[1;32m~\\anaconda3\\Lib\\site-packages\\scipy\\stats\\_axis_nan_policy.py:591\u001b[0m, in \u001b[0;36m_axis_nan_policy_factory.<locals>.axis_nan_policy_decorator.<locals>.axis_nan_policy_wrapper\u001b[1;34m(***failed resolving arguments***)\u001b[0m\n\u001b[0;32m    588\u001b[0m         \u001b[38;5;28;01mreturn\u001b[39;00m result_to_tuple(hypotest_fun_out(\u001b[38;5;241m*\u001b[39msamples, \u001b[38;5;241m*\u001b[39m\u001b[38;5;241m*\u001b[39mkwds))\n\u001b[0;32m    590\u001b[0m x \u001b[38;5;241m=\u001b[39m np\u001b[38;5;241m.\u001b[39mmoveaxis(x, axis, \u001b[38;5;241m0\u001b[39m)\n\u001b[1;32m--> 591\u001b[0m res \u001b[38;5;241m=\u001b[39m np\u001b[38;5;241m.\u001b[39mapply_along_axis(hypotest_fun, axis\u001b[38;5;241m=\u001b[39m\u001b[38;5;241m0\u001b[39m, arr\u001b[38;5;241m=\u001b[39mx)\n\u001b[0;32m    592\u001b[0m res \u001b[38;5;241m=\u001b[39m _add_reduced_axes(res, reduced_axes, keepdims)\n\u001b[0;32m    593\u001b[0m \u001b[38;5;28;01mreturn\u001b[39;00m tuple_to_result(\u001b[38;5;241m*\u001b[39mres)\n",
      "File \u001b[1;32m~\\anaconda3\\Lib\\site-packages\\numpy\\lib\\shape_base.py:379\u001b[0m, in \u001b[0;36mapply_along_axis\u001b[1;34m(func1d, axis, arr, *args, **kwargs)\u001b[0m\n\u001b[0;32m    375\u001b[0m \u001b[38;5;28;01mexcept\u001b[39;00m \u001b[38;5;167;01mStopIteration\u001b[39;00m:\n\u001b[0;32m    376\u001b[0m     \u001b[38;5;28;01mraise\u001b[39;00m \u001b[38;5;167;01mValueError\u001b[39;00m(\n\u001b[0;32m    377\u001b[0m         \u001b[38;5;124m'\u001b[39m\u001b[38;5;124mCannot apply_along_axis when any iteration dimensions are 0\u001b[39m\u001b[38;5;124m'\u001b[39m\n\u001b[0;32m    378\u001b[0m     ) \u001b[38;5;28;01mfrom\u001b[39;00m \u001b[38;5;28;01mNone\u001b[39;00m\n\u001b[1;32m--> 379\u001b[0m res \u001b[38;5;241m=\u001b[39m asanyarray(func1d(inarr_view[ind0], \u001b[38;5;241m*\u001b[39margs, \u001b[38;5;241m*\u001b[39m\u001b[38;5;241m*\u001b[39mkwargs))\n\u001b[0;32m    381\u001b[0m \u001b[38;5;66;03m# build a buffer for storing evaluations of func1d.\u001b[39;00m\n\u001b[0;32m    382\u001b[0m \u001b[38;5;66;03m# remove the requested axis, and add the new ones on the end.\u001b[39;00m\n\u001b[0;32m    383\u001b[0m \u001b[38;5;66;03m# laid out so that each write is contiguous.\u001b[39;00m\n\u001b[0;32m    384\u001b[0m \u001b[38;5;66;03m# for a tuple index inds, buff[inds] = func1d(inarr_view[inds])\u001b[39;00m\n\u001b[0;32m    385\u001b[0m buff \u001b[38;5;241m=\u001b[39m zeros(inarr_view\u001b[38;5;241m.\u001b[39mshape[:\u001b[38;5;241m-\u001b[39m\u001b[38;5;241m1\u001b[39m] \u001b[38;5;241m+\u001b[39m res\u001b[38;5;241m.\u001b[39mshape, res\u001b[38;5;241m.\u001b[39mdtype)\n",
      "File \u001b[1;32m~\\anaconda3\\Lib\\site-packages\\scipy\\stats\\_axis_nan_policy.py:571\u001b[0m, in \u001b[0;36m_axis_nan_policy_factory.<locals>.axis_nan_policy_decorator.<locals>.axis_nan_policy_wrapper.<locals>.hypotest_fun\u001b[1;34m(x)\u001b[0m\n\u001b[0;32m    570\u001b[0m \u001b[38;5;28;01mdef\u001b[39;00m \u001b[38;5;21mhypotest_fun\u001b[39m(x):\n\u001b[1;32m--> 571\u001b[0m     \u001b[38;5;28;01mif\u001b[39;00m np\u001b[38;5;241m.\u001b[39misnan(x)\u001b[38;5;241m.\u001b[39many():\n\u001b[0;32m    572\u001b[0m         \u001b[38;5;28;01mreturn\u001b[39;00m np\u001b[38;5;241m.\u001b[39mfull(n_out, np\u001b[38;5;241m.\u001b[39mnan)\n\u001b[0;32m    574\u001b[0m     samples \u001b[38;5;241m=\u001b[39m np\u001b[38;5;241m.\u001b[39msplit(x, split_indices)[:n_samp\u001b[38;5;241m+\u001b[39mn_kwd_samp]\n",
      "\u001b[1;31mTypeError\u001b[0m: ufunc 'isnan' not supported for the input types, and the inputs could not be safely coerced to any supported types according to the casting rule ''safe''"
     ]
    }
   ],
   "source": [
    "outlier_col = ['GHI','DNI','DHI','ModA','ModB','WS','WSgust']\n",
    "for col in outlier_col:\n",
    "    histo_gram(benin,col)"
   ]
  },
  {
   "cell_type": "code",
   "execution_count": null,
   "id": "add1f936",
   "metadata": {},
   "outputs": [],
   "source": []
  },
  {
   "cell_type": "code",
   "execution_count": null,
   "id": "5c833997",
   "metadata": {},
   "outputs": [],
   "source": []
  },
  {
   "cell_type": "code",
   "execution_count": null,
   "id": "1e18c862",
   "metadata": {},
   "outputs": [],
   "source": []
  }
 ],
 "metadata": {
  "kernelspec": {
   "display_name": "Python 3 (ipykernel)",
   "language": "python",
   "name": "python3"
  },
  "language_info": {
   "codemirror_mode": {
    "name": "ipython",
    "version": 3
   },
   "file_extension": ".py",
   "mimetype": "text/x-python",
   "name": "python",
   "nbconvert_exporter": "python",
   "pygments_lexer": "ipython3",
   "version": "3.11.5"
  }
 },
 "nbformat": 4,
 "nbformat_minor": 5
}
